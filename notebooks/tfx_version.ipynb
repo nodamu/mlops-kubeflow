{
 "cells": [
  {
   "cell_type": "code",
   "execution_count": 1,
   "metadata": {},
   "outputs": [],
   "source": [
    "## REQUIRED LIBRARIES\n",
    "# For data wrangling \n",
    "import numpy as np\n",
    "import pandas as pd\n",
    "\n",
    "# For visualization\n",
    "import matplotlib.pyplot as plt\n",
    "%matplotlib inline\n",
    "import seaborn as sns\n",
    "import tensorflow_data_validation as tfdv\n"
   ]
  },
  {
   "cell_type": "markdown",
   "metadata": {},
   "source": [
    "## Grab data from source"
   ]
  },
  {
   "cell_type": "code",
   "execution_count": 9,
   "metadata": {},
   "outputs": [
    {
     "output_type": "execute_result",
     "data": {
      "text/plain": "   RowNumber  CustomerId   Surname  CreditScore Geography  Gender  Age  \\\n0  1          15634602    Hargrave  619          France    Female  42    \n1  2          15647311    Hill      608          Spain     Female  41    \n2  3          15619304    Onio      502          France    Female  42    \n3  4          15701354    Boni      699          France    Female  39    \n4  5          15737888    Mitchell  850          Spain     Female  43    \n\n   Tenure    Balance  NumOfProducts  HasCrCard  IsActiveMember  \\\n0  2       0.00       1              1          1                \n1  1       83807.86   1              0          1                \n2  8       159660.80  3              1          0                \n3  1       0.00       2              0          0                \n4  2       125510.82  1              1          1                \n\n   EstimatedSalary  Exited  \n0  101348.88        1       \n1  112542.58        0       \n2  113931.57        1       \n3  93826.63         0       \n4  79084.10         0       ",
      "text/html": "<div>\n<style scoped>\n    .dataframe tbody tr th:only-of-type {\n        vertical-align: middle;\n    }\n\n    .dataframe tbody tr th {\n        vertical-align: top;\n    }\n\n    .dataframe thead th {\n        text-align: right;\n    }\n</style>\n<table border=\"1\" class=\"dataframe\">\n  <thead>\n    <tr style=\"text-align: right;\">\n      <th></th>\n      <th>RowNumber</th>\n      <th>CustomerId</th>\n      <th>Surname</th>\n      <th>CreditScore</th>\n      <th>Geography</th>\n      <th>Gender</th>\n      <th>Age</th>\n      <th>Tenure</th>\n      <th>Balance</th>\n      <th>NumOfProducts</th>\n      <th>HasCrCard</th>\n      <th>IsActiveMember</th>\n      <th>EstimatedSalary</th>\n      <th>Exited</th>\n    </tr>\n  </thead>\n  <tbody>\n    <tr>\n      <th>0</th>\n      <td>1</td>\n      <td>15634602</td>\n      <td>Hargrave</td>\n      <td>619</td>\n      <td>France</td>\n      <td>Female</td>\n      <td>42</td>\n      <td>2</td>\n      <td>0.00</td>\n      <td>1</td>\n      <td>1</td>\n      <td>1</td>\n      <td>101348.88</td>\n      <td>1</td>\n    </tr>\n    <tr>\n      <th>1</th>\n      <td>2</td>\n      <td>15647311</td>\n      <td>Hill</td>\n      <td>608</td>\n      <td>Spain</td>\n      <td>Female</td>\n      <td>41</td>\n      <td>1</td>\n      <td>83807.86</td>\n      <td>1</td>\n      <td>0</td>\n      <td>1</td>\n      <td>112542.58</td>\n      <td>0</td>\n    </tr>\n    <tr>\n      <th>2</th>\n      <td>3</td>\n      <td>15619304</td>\n      <td>Onio</td>\n      <td>502</td>\n      <td>France</td>\n      <td>Female</td>\n      <td>42</td>\n      <td>8</td>\n      <td>159660.80</td>\n      <td>3</td>\n      <td>1</td>\n      <td>0</td>\n      <td>113931.57</td>\n      <td>1</td>\n    </tr>\n    <tr>\n      <th>3</th>\n      <td>4</td>\n      <td>15701354</td>\n      <td>Boni</td>\n      <td>699</td>\n      <td>France</td>\n      <td>Female</td>\n      <td>39</td>\n      <td>1</td>\n      <td>0.00</td>\n      <td>2</td>\n      <td>0</td>\n      <td>0</td>\n      <td>93826.63</td>\n      <td>0</td>\n    </tr>\n    <tr>\n      <th>4</th>\n      <td>5</td>\n      <td>15737888</td>\n      <td>Mitchell</td>\n      <td>850</td>\n      <td>Spain</td>\n      <td>Female</td>\n      <td>43</td>\n      <td>2</td>\n      <td>125510.82</td>\n      <td>1</td>\n      <td>1</td>\n      <td>1</td>\n      <td>79084.10</td>\n      <td>0</td>\n    </tr>\n  </tbody>\n</table>\n</div>"
     },
     "metadata": {},
     "execution_count": 9
    }
   ],
   "source": [
    "df = pd.read_csv('../data/Churn_Modelling.csv')\n",
    "df.head()"
   ]
  },
  {
   "cell_type": "code",
   "execution_count": 10,
   "metadata": {},
   "outputs": [],
   "source": [
    "df = df.drop([\"RowNumber\", \"CustomerId\", \"Surname\"], axis = 1)\n"
   ]
  },
  {
   "cell_type": "code",
   "execution_count": 11,
   "metadata": {},
   "outputs": [
    {
     "output_type": "execute_result",
     "data": {
      "text/plain": "   CreditScore Geography  Gender  Age  Tenure    Balance  NumOfProducts  \\\n0  619          France    Female  42   2       0.00       1               \n1  608          Spain     Female  41   1       83807.86   1               \n2  502          France    Female  42   8       159660.80  3               \n3  699          France    Female  39   1       0.00       2               \n4  850          Spain     Female  43   2       125510.82  1               \n\n   HasCrCard  IsActiveMember  EstimatedSalary  Exited  \n0  1          1               101348.88        1       \n1  0          1               112542.58        0       \n2  1          0               113931.57        1       \n3  0          0               93826.63         0       \n4  1          1               79084.10         0       ",
      "text/html": "<div>\n<style scoped>\n    .dataframe tbody tr th:only-of-type {\n        vertical-align: middle;\n    }\n\n    .dataframe tbody tr th {\n        vertical-align: top;\n    }\n\n    .dataframe thead th {\n        text-align: right;\n    }\n</style>\n<table border=\"1\" class=\"dataframe\">\n  <thead>\n    <tr style=\"text-align: right;\">\n      <th></th>\n      <th>CreditScore</th>\n      <th>Geography</th>\n      <th>Gender</th>\n      <th>Age</th>\n      <th>Tenure</th>\n      <th>Balance</th>\n      <th>NumOfProducts</th>\n      <th>HasCrCard</th>\n      <th>IsActiveMember</th>\n      <th>EstimatedSalary</th>\n      <th>Exited</th>\n    </tr>\n  </thead>\n  <tbody>\n    <tr>\n      <th>0</th>\n      <td>619</td>\n      <td>France</td>\n      <td>Female</td>\n      <td>42</td>\n      <td>2</td>\n      <td>0.00</td>\n      <td>1</td>\n      <td>1</td>\n      <td>1</td>\n      <td>101348.88</td>\n      <td>1</td>\n    </tr>\n    <tr>\n      <th>1</th>\n      <td>608</td>\n      <td>Spain</td>\n      <td>Female</td>\n      <td>41</td>\n      <td>1</td>\n      <td>83807.86</td>\n      <td>1</td>\n      <td>0</td>\n      <td>1</td>\n      <td>112542.58</td>\n      <td>0</td>\n    </tr>\n    <tr>\n      <th>2</th>\n      <td>502</td>\n      <td>France</td>\n      <td>Female</td>\n      <td>42</td>\n      <td>8</td>\n      <td>159660.80</td>\n      <td>3</td>\n      <td>1</td>\n      <td>0</td>\n      <td>113931.57</td>\n      <td>1</td>\n    </tr>\n    <tr>\n      <th>3</th>\n      <td>699</td>\n      <td>France</td>\n      <td>Female</td>\n      <td>39</td>\n      <td>1</td>\n      <td>0.00</td>\n      <td>2</td>\n      <td>0</td>\n      <td>0</td>\n      <td>93826.63</td>\n      <td>0</td>\n    </tr>\n    <tr>\n      <th>4</th>\n      <td>850</td>\n      <td>Spain</td>\n      <td>Female</td>\n      <td>43</td>\n      <td>2</td>\n      <td>125510.82</td>\n      <td>1</td>\n      <td>1</td>\n      <td>1</td>\n      <td>79084.10</td>\n      <td>0</td>\n    </tr>\n  </tbody>\n</table>\n</div>"
     },
     "metadata": {},
     "execution_count": 11
    }
   ],
   "source": [
    "df.head()"
   ]
  },
  {
   "cell_type": "code",
   "execution_count": 13,
   "metadata": {},
   "outputs": [
    {
     "output_type": "execute_result",
     "data": {
      "text/plain": "        CreditScore           Age        Tenure        Balance  NumOfProducts  \\\ncount  10000.000000  10000.000000  10000.000000  10000.000000   10000.000000    \nmean   650.528800    38.921800     5.012800      76485.889288   1.530200        \nstd    96.653299     10.487806     2.892174      62397.405202   0.581654        \nmin    350.000000    18.000000     0.000000      0.000000       1.000000        \n25%    584.000000    32.000000     3.000000      0.000000       1.000000        \n50%    652.000000    37.000000     5.000000      97198.540000   1.000000        \n75%    718.000000    44.000000     7.000000      127644.240000  2.000000        \nmax    850.000000    92.000000     10.000000     250898.090000  4.000000        \n\n         HasCrCard  IsActiveMember  EstimatedSalary        Exited  \ncount  10000.00000  10000.000000    10000.000000     10000.000000  \nmean   0.70550      0.515100        100090.239881    0.203700      \nstd    0.45584      0.499797        57510.492818     0.402769      \nmin    0.00000      0.000000        11.580000        0.000000      \n25%    0.00000      0.000000        51002.110000     0.000000      \n50%    1.00000      1.000000        100193.915000    0.000000      \n75%    1.00000      1.000000        149388.247500    0.000000      \nmax    1.00000      1.000000        199992.480000    1.000000      ",
      "text/html": "<div>\n<style scoped>\n    .dataframe tbody tr th:only-of-type {\n        vertical-align: middle;\n    }\n\n    .dataframe tbody tr th {\n        vertical-align: top;\n    }\n\n    .dataframe thead th {\n        text-align: right;\n    }\n</style>\n<table border=\"1\" class=\"dataframe\">\n  <thead>\n    <tr style=\"text-align: right;\">\n      <th></th>\n      <th>CreditScore</th>\n      <th>Age</th>\n      <th>Tenure</th>\n      <th>Balance</th>\n      <th>NumOfProducts</th>\n      <th>HasCrCard</th>\n      <th>IsActiveMember</th>\n      <th>EstimatedSalary</th>\n      <th>Exited</th>\n    </tr>\n  </thead>\n  <tbody>\n    <tr>\n      <th>count</th>\n      <td>10000.000000</td>\n      <td>10000.000000</td>\n      <td>10000.000000</td>\n      <td>10000.000000</td>\n      <td>10000.000000</td>\n      <td>10000.00000</td>\n      <td>10000.000000</td>\n      <td>10000.000000</td>\n      <td>10000.000000</td>\n    </tr>\n    <tr>\n      <th>mean</th>\n      <td>650.528800</td>\n      <td>38.921800</td>\n      <td>5.012800</td>\n      <td>76485.889288</td>\n      <td>1.530200</td>\n      <td>0.70550</td>\n      <td>0.515100</td>\n      <td>100090.239881</td>\n      <td>0.203700</td>\n    </tr>\n    <tr>\n      <th>std</th>\n      <td>96.653299</td>\n      <td>10.487806</td>\n      <td>2.892174</td>\n      <td>62397.405202</td>\n      <td>0.581654</td>\n      <td>0.45584</td>\n      <td>0.499797</td>\n      <td>57510.492818</td>\n      <td>0.402769</td>\n    </tr>\n    <tr>\n      <th>min</th>\n      <td>350.000000</td>\n      <td>18.000000</td>\n      <td>0.000000</td>\n      <td>0.000000</td>\n      <td>1.000000</td>\n      <td>0.00000</td>\n      <td>0.000000</td>\n      <td>11.580000</td>\n      <td>0.000000</td>\n    </tr>\n    <tr>\n      <th>25%</th>\n      <td>584.000000</td>\n      <td>32.000000</td>\n      <td>3.000000</td>\n      <td>0.000000</td>\n      <td>1.000000</td>\n      <td>0.00000</td>\n      <td>0.000000</td>\n      <td>51002.110000</td>\n      <td>0.000000</td>\n    </tr>\n    <tr>\n      <th>50%</th>\n      <td>652.000000</td>\n      <td>37.000000</td>\n      <td>5.000000</td>\n      <td>97198.540000</td>\n      <td>1.000000</td>\n      <td>1.00000</td>\n      <td>1.000000</td>\n      <td>100193.915000</td>\n      <td>0.000000</td>\n    </tr>\n    <tr>\n      <th>75%</th>\n      <td>718.000000</td>\n      <td>44.000000</td>\n      <td>7.000000</td>\n      <td>127644.240000</td>\n      <td>2.000000</td>\n      <td>1.00000</td>\n      <td>1.000000</td>\n      <td>149388.247500</td>\n      <td>0.000000</td>\n    </tr>\n    <tr>\n      <th>max</th>\n      <td>850.000000</td>\n      <td>92.000000</td>\n      <td>10.000000</td>\n      <td>250898.090000</td>\n      <td>4.000000</td>\n      <td>1.00000</td>\n      <td>1.000000</td>\n      <td>199992.480000</td>\n      <td>1.000000</td>\n    </tr>\n  </tbody>\n</table>\n</div>"
     },
     "metadata": {},
     "execution_count": 13
    }
   ],
   "source": [
    "df.describe()"
   ]
  },
  {
   "cell_type": "code",
   "execution_count": 20,
   "metadata": {},
   "outputs": [],
   "source": [
    "def split_to_train_test(df, label_column, train_frac=0.8):\n",
    "    train_df, test_df = pd.DataFrame(), pd.DataFrame()\n",
    "    labels = df[label_column].unique()\n",
    "    for lbl in labels:\n",
    "        lbl_df = df[df[label_column] == lbl]\n",
    "        lbl_train_df = lbl_df.sample(frac=train_frac)\n",
    "        lbl_test_df = lbl_df.drop(lbl_train_df.index)\n",
    "        print('\\n%s:\\n---------\\ntotal:%d\\ntrain_df:%d\\ntest_df:%d' % (lbl, len(lbl_df), len(lbl_train_df), len(lbl_test_df)))\n",
    "        train_df = train_df.append(lbl_train_df)\n",
    "        test_df = test_df.append(lbl_test_df)\n",
    "\n",
    "    return train_df, test_df"
   ]
  },
  {
   "cell_type": "code",
   "execution_count": 22,
   "metadata": {
    "tags": []
   },
   "outputs": [
    {
     "output_type": "stream",
     "name": "stdout",
     "text": "\n1:\n---------\ntotal:2037\ntrain_df:1630\ntest_df:407\n\n0:\n---------\ntotal:7963\ntrain_df:6370\ntest_df:1593\n"
    }
   ],
   "source": [
    "train, test = split_to_train_test(df,'Exited')"
   ]
  },
  {
   "cell_type": "code",
   "execution_count": 32,
   "metadata": {},
   "outputs": [],
   "source": [
    "train.to_csv('../data/train.csv')\n",
    "test.to_csv('../data/test.csv')"
   ]
  },
  {
   "cell_type": "code",
   "execution_count": 48,
   "metadata": {},
   "outputs": [],
   "source": [
    "df.to_csv('../data/churn_modelling.csv')"
   ]
  },
  {
   "cell_type": "code",
   "execution_count": null,
   "metadata": {},
   "outputs": [],
   "source": []
  },
  {
   "cell_type": "markdown",
   "metadata": {},
   "source": [
    "## Visualize statistics"
   ]
  },
  {
   "cell_type": "code",
   "execution_count": 33,
   "metadata": {
    "tags": []
   },
   "outputs": [
    {
     "output_type": "stream",
     "name": "stdout",
     "text": "../data/train.csv\n"
    }
   ],
   "source": [
    "TRAIN_DATA_FILE = '../data/train.csv'\n",
    "EVAL_DATA_FILE = '../data/test.csv'\n",
    "TARGET_FEATURE_NAME = 'Exited'\n",
    "HEADERS = ['CreditScore','Geography','Gender','Age','Tenure','Balance','NumOfProducts','HasCrCard','IsActiveMember','EstimatedSalary','Exited']\n",
    "\n",
    "print(TRAIN_DATA_FILE)\n"
   ]
  },
  {
   "cell_type": "code",
   "execution_count": 34,
   "metadata": {
    "tags": []
   },
   "outputs": [],
   "source": [
    "train_stats = tfdv.generate_statistics_from_csv(\n",
    "    data_location=TRAIN_DATA_FILE )"
   ]
  },
  {
   "cell_type": "code",
   "execution_count": 35,
   "metadata": {},
   "outputs": [
    {
     "output_type": "display_data",
     "data": {
      "text/plain": "<IPython.core.display.HTML object>",
      "text/html": "<iframe id='facets-iframe' width=\"100%\" height=\"500px\"></iframe>\n        <script>\n        facets_iframe = document.getElementById('facets-iframe');\n        facets_html = '<script src=\"https://cdnjs.cloudflare.com/ajax/libs/webcomponentsjs/1.3.3/webcomponents-lite.js\"><\\/script><link rel=\"import\" href=\"https://raw.githubusercontent.com/PAIR-code/facets/master/facets-dist/facets-jupyter.html\"><facets-overview proto-input=\"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\"></facets-overview>';\n        facets_iframe.srcdoc = facets_html;\n         facets_iframe.id = \"\";\n         setTimeout(() => {\n           facets_iframe.setAttribute('height', facets_iframe.contentWindow.document.body.offsetHeight + 'px')\n         }, 1500)\n         </script>"
     },
     "metadata": {}
    }
   ],
   "source": [
    "tfdv.visualize_statistics(train_stats)"
   ]
  },
  {
   "cell_type": "code",
   "execution_count": 36,
   "metadata": {},
   "outputs": [
    {
     "output_type": "display_data",
     "data": {
      "text/plain": "                     Type  Presence Valency       Domain\nFeature name                                            \n'Geography'        STRING  required          'Geography'\n'Gender'           STRING  required          'Gender'   \n''                 INT     required          -          \n'CreditScore'      INT     required          -          \n'Age'              INT     required          -          \n'Tenure'           INT     required          -          \n'Balance'          FLOAT   required          -          \n'NumOfProducts'    INT     required          -          \n'HasCrCard'        INT     required          -          \n'IsActiveMember'   INT     required          -          \n'EstimatedSalary'  FLOAT   required          -          \n'Exited'           INT     required          -          ",
      "text/html": "<div>\n<style scoped>\n    .dataframe tbody tr th:only-of-type {\n        vertical-align: middle;\n    }\n\n    .dataframe tbody tr th {\n        vertical-align: top;\n    }\n\n    .dataframe thead th {\n        text-align: right;\n    }\n</style>\n<table border=\"1\" class=\"dataframe\">\n  <thead>\n    <tr style=\"text-align: right;\">\n      <th></th>\n      <th>Type</th>\n      <th>Presence</th>\n      <th>Valency</th>\n      <th>Domain</th>\n    </tr>\n    <tr>\n      <th>Feature name</th>\n      <th></th>\n      <th></th>\n      <th></th>\n      <th></th>\n    </tr>\n  </thead>\n  <tbody>\n    <tr>\n      <th>'Geography'</th>\n      <td>STRING</td>\n      <td>required</td>\n      <td></td>\n      <td>'Geography'</td>\n    </tr>\n    <tr>\n      <th>'Gender'</th>\n      <td>STRING</td>\n      <td>required</td>\n      <td></td>\n      <td>'Gender'</td>\n    </tr>\n    <tr>\n      <th>''</th>\n      <td>INT</td>\n      <td>required</td>\n      <td></td>\n      <td>-</td>\n    </tr>\n    <tr>\n      <th>'CreditScore'</th>\n      <td>INT</td>\n      <td>required</td>\n      <td></td>\n      <td>-</td>\n    </tr>\n    <tr>\n      <th>'Age'</th>\n      <td>INT</td>\n      <td>required</td>\n      <td></td>\n      <td>-</td>\n    </tr>\n    <tr>\n      <th>'Tenure'</th>\n      <td>INT</td>\n      <td>required</td>\n      <td></td>\n      <td>-</td>\n    </tr>\n    <tr>\n      <th>'Balance'</th>\n      <td>FLOAT</td>\n      <td>required</td>\n      <td></td>\n      <td>-</td>\n    </tr>\n    <tr>\n      <th>'NumOfProducts'</th>\n      <td>INT</td>\n      <td>required</td>\n      <td></td>\n      <td>-</td>\n    </tr>\n    <tr>\n      <th>'HasCrCard'</th>\n      <td>INT</td>\n      <td>required</td>\n      <td></td>\n      <td>-</td>\n    </tr>\n    <tr>\n      <th>'IsActiveMember'</th>\n      <td>INT</td>\n      <td>required</td>\n      <td></td>\n      <td>-</td>\n    </tr>\n    <tr>\n      <th>'EstimatedSalary'</th>\n      <td>FLOAT</td>\n      <td>required</td>\n      <td></td>\n      <td>-</td>\n    </tr>\n    <tr>\n      <th>'Exited'</th>\n      <td>INT</td>\n      <td>required</td>\n      <td></td>\n      <td>-</td>\n    </tr>\n  </tbody>\n</table>\n</div>"
     },
     "metadata": {}
    },
    {
     "output_type": "display_data",
     "data": {
      "text/plain": "                                   Values\nDomain                                   \n'Geography'  'France', 'Germany', 'Spain'\n'Gender'     'Female', 'Male'            ",
      "text/html": "<div>\n<style scoped>\n    .dataframe tbody tr th:only-of-type {\n        vertical-align: middle;\n    }\n\n    .dataframe tbody tr th {\n        vertical-align: top;\n    }\n\n    .dataframe thead th {\n        text-align: right;\n    }\n</style>\n<table border=\"1\" class=\"dataframe\">\n  <thead>\n    <tr style=\"text-align: right;\">\n      <th></th>\n      <th>Values</th>\n    </tr>\n    <tr>\n      <th>Domain</th>\n      <th></th>\n    </tr>\n  </thead>\n  <tbody>\n    <tr>\n      <th>'Geography'</th>\n      <td>'France', 'Germany', 'Spain'</td>\n    </tr>\n    <tr>\n      <th>'Gender'</th>\n      <td>'Female', 'Male'</td>\n    </tr>\n  </tbody>\n</table>\n</div>"
     },
     "metadata": {}
    }
   ],
   "source": [
    "schema = tfdv.infer_schema(statistics=train_stats)\n",
    "tfdv.display_schema(schema=schema)"
   ]
  },
  {
   "cell_type": "markdown",
   "metadata": {},
   "source": [
    "## Infer schema"
   ]
  },
  {
   "cell_type": "code",
   "execution_count": 37,
   "metadata": {},
   "outputs": [],
   "source": [
    "#  All features are by default in both TRAINING and SERVING environments.\n",
    "schema.default_environment.append('TRAINING')\n",
    "schema.default_environment.append('EVALUATION')\n",
    "schema.default_environment.append('SERVING')\n",
    "\n",
    "# Specify that the class feature is not in SERVING environment.\n",
    "tfdv.get_feature(schema, TARGET_FEATURE_NAME).not_in_environment.append('SERVING')"
   ]
  },
  {
   "cell_type": "code",
   "execution_count": 38,
   "metadata": {},
   "outputs": [
    {
     "output_type": "display_data",
     "data": {
      "text/plain": "                     Type  Presence Valency       Domain\nFeature name                                            \n'Geography'        STRING  required          'Geography'\n'Gender'           STRING  required          'Gender'   \n''                 INT     required          -          \n'CreditScore'      INT     required          -          \n'Age'              INT     required          -          \n'Tenure'           INT     required          -          \n'Balance'          FLOAT   required          -          \n'NumOfProducts'    INT     required          -          \n'HasCrCard'        INT     required          -          \n'IsActiveMember'   INT     required          -          \n'EstimatedSalary'  FLOAT   required          -          \n'Exited'           INT     required          -          ",
      "text/html": "<div>\n<style scoped>\n    .dataframe tbody tr th:only-of-type {\n        vertical-align: middle;\n    }\n\n    .dataframe tbody tr th {\n        vertical-align: top;\n    }\n\n    .dataframe thead th {\n        text-align: right;\n    }\n</style>\n<table border=\"1\" class=\"dataframe\">\n  <thead>\n    <tr style=\"text-align: right;\">\n      <th></th>\n      <th>Type</th>\n      <th>Presence</th>\n      <th>Valency</th>\n      <th>Domain</th>\n    </tr>\n    <tr>\n      <th>Feature name</th>\n      <th></th>\n      <th></th>\n      <th></th>\n      <th></th>\n    </tr>\n  </thead>\n  <tbody>\n    <tr>\n      <th>'Geography'</th>\n      <td>STRING</td>\n      <td>required</td>\n      <td></td>\n      <td>'Geography'</td>\n    </tr>\n    <tr>\n      <th>'Gender'</th>\n      <td>STRING</td>\n      <td>required</td>\n      <td></td>\n      <td>'Gender'</td>\n    </tr>\n    <tr>\n      <th>''</th>\n      <td>INT</td>\n      <td>required</td>\n      <td></td>\n      <td>-</td>\n    </tr>\n    <tr>\n      <th>'CreditScore'</th>\n      <td>INT</td>\n      <td>required</td>\n      <td></td>\n      <td>-</td>\n    </tr>\n    <tr>\n      <th>'Age'</th>\n      <td>INT</td>\n      <td>required</td>\n      <td></td>\n      <td>-</td>\n    </tr>\n    <tr>\n      <th>'Tenure'</th>\n      <td>INT</td>\n      <td>required</td>\n      <td></td>\n      <td>-</td>\n    </tr>\n    <tr>\n      <th>'Balance'</th>\n      <td>FLOAT</td>\n      <td>required</td>\n      <td></td>\n      <td>-</td>\n    </tr>\n    <tr>\n      <th>'NumOfProducts'</th>\n      <td>INT</td>\n      <td>required</td>\n      <td></td>\n      <td>-</td>\n    </tr>\n    <tr>\n      <th>'HasCrCard'</th>\n      <td>INT</td>\n      <td>required</td>\n      <td></td>\n      <td>-</td>\n    </tr>\n    <tr>\n      <th>'IsActiveMember'</th>\n      <td>INT</td>\n      <td>required</td>\n      <td></td>\n      <td>-</td>\n    </tr>\n    <tr>\n      <th>'EstimatedSalary'</th>\n      <td>FLOAT</td>\n      <td>required</td>\n      <td></td>\n      <td>-</td>\n    </tr>\n    <tr>\n      <th>'Exited'</th>\n      <td>INT</td>\n      <td>required</td>\n      <td></td>\n      <td>-</td>\n    </tr>\n  </tbody>\n</table>\n</div>"
     },
     "metadata": {}
    },
    {
     "output_type": "display_data",
     "data": {
      "text/plain": "                                   Values\nDomain                                   \n'Geography'  'France', 'Germany', 'Spain'\n'Gender'     'Female', 'Male'            ",
      "text/html": "<div>\n<style scoped>\n    .dataframe tbody tr th:only-of-type {\n        vertical-align: middle;\n    }\n\n    .dataframe tbody tr th {\n        vertical-align: top;\n    }\n\n    .dataframe thead th {\n        text-align: right;\n    }\n</style>\n<table border=\"1\" class=\"dataframe\">\n  <thead>\n    <tr style=\"text-align: right;\">\n      <th></th>\n      <th>Values</th>\n    </tr>\n    <tr>\n      <th>Domain</th>\n      <th></th>\n    </tr>\n  </thead>\n  <tbody>\n    <tr>\n      <th>'Geography'</th>\n      <td>'France', 'Germany', 'Spain'</td>\n    </tr>\n    <tr>\n      <th>'Gender'</th>\n      <td>'Female', 'Male'</td>\n    </tr>\n  </tbody>\n</table>\n</div>"
     },
     "metadata": {}
    }
   ],
   "source": [
    "tfdv.display_schema(schema=schema)"
   ]
  },
  {
   "cell_type": "code",
   "execution_count": 40,
   "metadata": {},
   "outputs": [
    {
     "output_type": "execute_result",
     "data": {
      "text/plain": "name: \"Exited\"\ntype: INT\nbool_domain {\n}\npresence {\n  min_fraction: 1.0\n  min_count: 1\n}\nnot_in_environment: \"SERVING\"\nshape {\n  dim {\n    size: 1\n  }\n}"
     },
     "metadata": {},
     "execution_count": 40
    }
   ],
   "source": [
    "tfdv.get_feature(schema, TARGET_FEATURE_NAME)"
   ]
  },
  {
   "cell_type": "markdown",
   "metadata": {},
   "source": [
    "## Validate the evaluation data"
   ]
  },
  {
   "cell_type": "code",
   "execution_count": 39,
   "metadata": {},
   "outputs": [
    {
     "output_type": "display_data",
     "data": {
      "text/plain": "<IPython.core.display.HTML object>",
      "text/html": "<h4 style=\"color:green;\">No anomalies found.</h4>"
     },
     "metadata": {}
    }
   ],
   "source": [
    "eval_stats = tfdv.generate_statistics_from_csv(EVAL_DATA_FILE)\n",
    "\n",
    "eval_anomalies = tfdv.validate_statistics(eval_stats, schema, environment='EVALUATION')\n",
    "tfdv.display_anomalies(eval_anomalies)"
   ]
  },
  {
   "cell_type": "markdown",
   "metadata": {},
   "source": [
    "## Freeze schema"
   ]
  },
  {
   "cell_type": "code",
   "execution_count": 44,
   "metadata": {},
   "outputs": [],
   "source": [
    "RAW_SCHEMA_LOCATION = '../utils/schema.pbtxt'"
   ]
  },
  {
   "cell_type": "code",
   "execution_count": 45,
   "metadata": {},
   "outputs": [],
   "source": [
    "from tensorflow.python.lib.io import file_io\n",
    "from google.protobuf import text_format\n",
    "\n",
    "tfdv.write_schema_text(schema, RAW_SCHEMA_LOCATION)"
   ]
  }
 ],
 "metadata": {
  "language_info": {
   "codemirror_mode": {
    "name": "ipython",
    "version": 3
   },
   "file_extension": ".py",
   "mimetype": "text/x-python",
   "name": "python",
   "nbconvert_exporter": "python",
   "pygments_lexer": "ipython3",
   "version": "3.6.10-final"
  },
  "orig_nbformat": 2,
  "kernelspec": {
   "name": "python361064bitztdlconda949b1a2a35f64f79bd0e5936a50dd121",
   "display_name": "Python 3.6.10 64-bit ('ztdl': conda)"
  }
 },
 "nbformat": 4,
 "nbformat_minor": 2
}